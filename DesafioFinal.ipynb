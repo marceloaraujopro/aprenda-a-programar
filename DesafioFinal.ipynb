{
  "cells": [
    {
      "cell_type": "markdown",
      "metadata": {
        "id": "view-in-github",
        "colab_type": "text"
      },
      "source": [
        "<a href=\"https://colab.research.google.com/github/marceloaraujopro/aprenda-a-programar/blob/main/DesafioFinal.ipynb\" target=\"_parent\"><img src=\"https://colab.research.google.com/assets/colab-badge.svg\" alt=\"Open In Colab\"/></a>"
      ]
    },
    {
      "cell_type": "markdown",
      "metadata": {
        "id": "e3oV81PEqow8"
      },
      "source": [
        "# Sistema de folha de pagamento de uma empresa"
      ]
    },
    {
      "cell_type": "code",
      "source": [
        "funcionarios = []\n",
        "salarioBruto =[]"
      ],
      "metadata": {
        "id": "GJmvEMovHOlp"
      },
      "execution_count": 28,
      "outputs": []
    },
    {
      "cell_type": "code",
      "execution_count": 4,
      "metadata": {
        "id": "r6vsR_MUso4c"
      },
      "outputs": [],
      "source": [
        "def cadastrarFuncionario():\n",
        "    nome = input('Nome do funcionário: ')\n",
        "    funcionarios.append(nome)\n",
        "    salario = float(input('Salário bruto: '))\n",
        "    salarioBruto.append(salario)\n",
        "    print()\n",
        "    print('FUNCIONÁRIO CADASTRADO COM SUCESSO!')"
      ]
    },
    {
      "cell_type": "code",
      "source": [
        "def mostrarSalarioBruto(cod):\n",
        "   for i in salarioBruto:\n",
        "      if (cod == salarioBruto.index(i)):\n",
        "        return i"
      ],
      "metadata": {
        "id": "94ZPAm6qaSDM"
      },
      "execution_count": 5,
      "outputs": []
    },
    {
      "cell_type": "code",
      "source": [
        "def calcularINSS(cod):\n",
        "  aliquota1 = 1212*0.075\n",
        "  aliquota2 = (2427.35 - 1212.01) * 0.09\n",
        "  aliquota3 = (3641.03 - 2427.36) * 0.12\n",
        "\n",
        "  for i in salarioBruto:\n",
        "      if (cod == salarioBruto.index(i)):\n",
        "        if (i <= 1212):\n",
        "          INSS = aliquota1\n",
        "        elif (i > 1212) and (i <= 2427.35):\n",
        "          INSS = aliquota1 + (i - 1212)*0.09\n",
        "        elif (i > 2427.35) and (i <= 3641.03):\n",
        "          INSS = aliquota1 + aliquota2 + (i - 2437.35)*0.12\n",
        "        elif (i > 3641.03) and (i <= 7087.22):\n",
        "          INSS = aliquota1 + aliquota2 + aliquota3 + (i - 3641.03)*0.14\n",
        "        else: \n",
        "          INSS = 828.39\n",
        "\n",
        "        return INSS\n"
      ],
      "metadata": {
        "id": "HvIX00DjPSgN"
      },
      "execution_count": 6,
      "outputs": []
    },
    {
      "cell_type": "code",
      "source": [
        "def calcularIRRF(cod):\n",
        "   for i in salarioBruto:\n",
        "      if (cod == salarioBruto.index(i)):\n",
        "        desconto = i - calcularINSS(cod) # armazena o salário bruto já descontado o INSS\n",
        "        if (desconto <= 1903.98):\n",
        "          IRRF = 0\n",
        "        elif (desconto > 1903.98) and (desconto <= 2826.65):\n",
        "          IRRF = desconto * 0.075 - 142.80\n",
        "        elif (desconto > 2826.65) and (desconto <= 3751.05):\n",
        "          IRRF = desconto * 0.15 - 354.80\n",
        "        elif (desconto > 3751.05) and (desconto <= 4664.68):\n",
        "          IRRF = desconto * 0.225 - 636.13\n",
        "        else: \n",
        "          IRRF = 869.36\n",
        "        return IRRF  "
      ],
      "metadata": {
        "id": "LnTsZ6T-PZo6"
      },
      "execution_count": 7,
      "outputs": []
    },
    {
      "cell_type": "code",
      "source": [
        "def calcularSalarioLiquido(cod):\n",
        "  salarioLiquido = mostrarSalarioBruto(cod) - calcularINSS(cod) - calcularIRRF(cod)\n",
        "  return salarioLiquido"
      ],
      "metadata": {
        "id": "TJ2TEHNNV3e4"
      },
      "execution_count": 8,
      "outputs": []
    },
    {
      "cell_type": "code",
      "source": [
        "def imprimirContracheque():\n",
        "    print('Funcionários cadastrados: ')\n",
        "    print('--------------------------')\n",
        "    for i in funcionarios:\n",
        "      print(funcionarios.index(i),'-',i)\n",
        "    print('--------------------------')\n",
        "    print('Informe o código do funcionário que deseja imprir o contracheque: ')\n",
        "    cod = int(input())\n",
        "    print('--------------------------')\n",
        "    print('CONTRACHEQUE')\n",
        "    print('--------------------------')\n",
        "    print()\n",
        "    print('Funcionário: ',funcionarios[cod])\n",
        "    print('Salário Bruto:   R$','{:.2f}'.format(mostrarSalarioBruto(cod)))\n",
        "    print('Desconto INSS:   R$','{:.2f}'.format(calcularINSS(cod)))\n",
        "    print('Desconto IRRF:   R$','{:.2f}'.format(calcularIRRF(cod)))\n",
        "    print('Salário Líquido: R$','{:.2f}'.format(calcularSalarioLiquido(cod)))\n",
        "    \n",
        "\n",
        "   "
      ],
      "metadata": {
        "id": "NDC9qRd4GGDr"
      },
      "execution_count": 21,
      "outputs": []
    },
    {
      "cell_type": "code",
      "source": [
        "def main():\n",
        "  while True:\n",
        "    print('----------------------------------------------------------------------------')\n",
        "    print('SISTEMA DE FOLHA DE PAGAMENTO')\n",
        "    print('----------------------------------------------------------------------------')\n",
        "    print('Opções: ')\n",
        "    print('[1] - Cadastrar funcionário')\n",
        "    print('[2] - Imprimir Contracheque')\n",
        "    print('[3] - Encerrar programa')\n",
        "    print()\n",
        "    menu = input()\n",
        "    if (menu == '1'):\n",
        "      cadastrarFuncionario()\n",
        "    elif (menu == '2'):\n",
        "      imprimirContracheque()\n",
        "    elif (menu == '3'):\n",
        "      funcionarios.clear()\n",
        "      salarioBruto.clear()\n",
        "      break\n",
        "    else:\n",
        "      print('Opção inválida. Favor digitar novamente.')\n",
        "      main()\n",
        "  "
      ],
      "metadata": {
        "id": "DV1Zg7BzMf_R"
      },
      "execution_count": 29,
      "outputs": []
    },
    {
      "cell_type": "code",
      "source": [
        "main()"
      ],
      "metadata": {
        "id": "X8j5bBylBYGZ"
      },
      "execution_count": null,
      "outputs": []
    }
  ],
  "metadata": {
    "colab": {
      "collapsed_sections": [],
      "name": "DesafioFinal.ipynb",
      "toc_visible": true,
      "provenance": [],
      "authorship_tag": "ABX9TyNT4TvFH14Yx9SJA3A5wB9d",
      "include_colab_link": true
    },
    "kernelspec": {
      "display_name": "Python 3",
      "name": "python3"
    },
    "language_info": {
      "name": "python"
    }
  },
  "nbformat": 4,
  "nbformat_minor": 0
}